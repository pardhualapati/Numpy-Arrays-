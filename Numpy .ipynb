{
 "cells": [
  {
   "cell_type": "code",
   "execution_count": 1,
   "id": "cf7f21f7",
   "metadata": {},
   "outputs": [
    {
     "name": "stdout",
     "output_type": "stream",
     "text": [
      "^C\n",
      "Note: you may need to restart the kernel to use updated packages.\n"
     ]
    }
   ],
   "source": [
    "pip install numpy"
   ]
  },
  {
   "cell_type": "markdown",
   "id": "4dddaee6",
   "metadata": {},
   "source": [
    "# Converting a list or tuple in to Array"
   ]
  },
  {
   "cell_type": "code",
   "execution_count": 2,
   "id": "1d53c5ca",
   "metadata": {},
   "outputs": [],
   "source": [
    "import numpy as np\n"
   ]
  },
  {
   "cell_type": "code",
   "execution_count": 3,
   "id": "8a941f43",
   "metadata": {},
   "outputs": [],
   "source": [
    "arr = np.array([1,2,3,2,1,8])"
   ]
  },
  {
   "cell_type": "code",
   "execution_count": 4,
   "id": "cd1ec4cf",
   "metadata": {},
   "outputs": [
    {
     "data": {
      "text/plain": [
       "array([1, 2, 3, 2, 1, 8])"
      ]
     },
     "execution_count": 4,
     "metadata": {},
     "output_type": "execute_result"
    }
   ],
   "source": [
    "arr"
   ]
  },
  {
   "cell_type": "code",
   "execution_count": 5,
   "id": "2ab9b7bb",
   "metadata": {},
   "outputs": [
    {
     "data": {
      "text/plain": [
       "numpy.ndarray"
      ]
     },
     "execution_count": 5,
     "metadata": {},
     "output_type": "execute_result"
    }
   ],
   "source": [
    "type(arr)"
   ]
  },
  {
   "cell_type": "code",
   "execution_count": 6,
   "id": "d13ef0a8",
   "metadata": {},
   "outputs": [
    {
     "data": {
      "text/plain": [
       "1"
      ]
     },
     "execution_count": 6,
     "metadata": {},
     "output_type": "execute_result"
    }
   ],
   "source": [
    "arr.ndim"
   ]
  },
  {
   "cell_type": "code",
   "execution_count": 7,
   "id": "c657aa34",
   "metadata": {},
   "outputs": [
    {
     "data": {
      "text/plain": [
       "6"
      ]
     },
     "execution_count": 7,
     "metadata": {},
     "output_type": "execute_result"
    }
   ],
   "source": [
    "arr.size"
   ]
  },
  {
   "cell_type": "code",
   "execution_count": 8,
   "id": "e95812be",
   "metadata": {},
   "outputs": [
    {
     "name": "stdout",
     "output_type": "stream",
     "text": [
      "Enter the elements:1 2 4 4\n"
     ]
    }
   ],
   "source": [
    "lst = list(map(int,input(\"Enter the elements:\").strip().split()))"
   ]
  },
  {
   "cell_type": "code",
   "execution_count": 9,
   "id": "220a7c42",
   "metadata": {},
   "outputs": [
    {
     "name": "stdout",
     "output_type": "stream",
     "text": [
      "[[[[[1 2 4 4]]]]]\n"
     ]
    }
   ],
   "source": [
    "arr1 = np.array(lst, ndmin =5)\n",
    "print(arr1)"
   ]
  },
  {
   "cell_type": "markdown",
   "id": "7c53d385",
   "metadata": {},
   "source": [
    "# 2. Arange Function\n",
    "\n",
    "This function return a sequence of numbers from start , end \n"
   ]
  },
  {
   "cell_type": "code",
   "execution_count": 10,
   "id": "10363a11",
   "metadata": {},
   "outputs": [
    {
     "data": {
      "text/plain": [
       "array([0, 1, 2, 3, 4, 5, 6, 7, 8, 9])"
      ]
     },
     "execution_count": 10,
     "metadata": {},
     "output_type": "execute_result"
    }
   ],
   "source": [
    "np.arange(10)"
   ]
  },
  {
   "cell_type": "code",
   "execution_count": 11,
   "id": "8e30eab4",
   "metadata": {},
   "outputs": [
    {
     "data": {
      "text/plain": [
       "array([1, 3, 5, 7, 9])"
      ]
     },
     "execution_count": 11,
     "metadata": {},
     "output_type": "execute_result"
    }
   ],
   "source": [
    "np.arange(1,10,2) #odd numbers from 1 to 10"
   ]
  },
  {
   "cell_type": "code",
   "execution_count": 12,
   "id": "1f507979",
   "metadata": {},
   "outputs": [
    {
     "data": {
      "text/plain": [
       "array([ 0,  2,  4,  6,  8, 10, 12, 14, 16, 18])"
      ]
     },
     "execution_count": 12,
     "metadata": {},
     "output_type": "execute_result"
    }
   ],
   "source": [
    "np.arange(0,20,2)"
   ]
  },
  {
   "cell_type": "markdown",
   "id": "6d67825e",
   "metadata": {},
   "source": [
    "# 3. MultiDimensional Array\n"
   ]
  },
  {
   "cell_type": "code",
   "execution_count": 13,
   "id": "4f7bb957",
   "metadata": {},
   "outputs": [
    {
     "name": "stdout",
     "output_type": "stream",
     "text": [
      "[[1 2 3]\n",
      " [4 5 6]\n",
      " [7 8 9]]\n"
     ]
    }
   ],
   "source": [
    "arr = np.array([[1,2,3],[4,5,6],[7,8,9]])\n",
    "print(arr)"
   ]
  },
  {
   "cell_type": "markdown",
   "id": "ba596b9d",
   "metadata": {},
   "source": [
    "# 4. Size Function "
   ]
  },
  {
   "cell_type": "code",
   "execution_count": 14,
   "id": "9acbc32a",
   "metadata": {},
   "outputs": [
    {
     "name": "stdout",
     "output_type": "stream",
     "text": [
      "Total Numbers:  9\n",
      "Rows         :  3\n",
      "Column       :  3\n"
     ]
    }
   ],
   "source": [
    "print(\"Total Numbers: \",np.size(arr))\n",
    "print(\"Rows         : \",np.size(arr,0))\n",
    "print(\"Column       : \",np.size(arr,1))"
   ]
  },
  {
   "cell_type": "markdown",
   "id": "a81b9fb8",
   "metadata": {},
   "source": [
    "# 5. Shape Function\n",
    "This function return the Dimention of an array"
   ]
  },
  {
   "cell_type": "code",
   "execution_count": 15,
   "id": "e24c3b98",
   "metadata": {},
   "outputs": [
    {
     "data": {
      "text/plain": [
       "(3, 3)"
      ]
     },
     "execution_count": 15,
     "metadata": {},
     "output_type": "execute_result"
    }
   ],
   "source": [
    "np.shape(arr)"
   ]
  },
  {
   "cell_type": "markdown",
   "id": "b3a1f9f8",
   "metadata": {},
   "source": [
    "# 6. Dtype Function\n",
    "This function returns the data type "
   ]
  },
  {
   "cell_type": "code",
   "execution_count": 16,
   "id": "a32ccc9c",
   "metadata": {},
   "outputs": [
    {
     "name": "stdout",
     "output_type": "stream",
     "text": [
      "int32\n"
     ]
    }
   ],
   "source": [
    " print(arr.dtype)"
   ]
  },
  {
   "cell_type": "markdown",
   "id": "bd99afd1",
   "metadata": {},
   "source": [
    "# 7. NDim Function\n",
    "NDim function returns the dimensionality of an array"
   ]
  },
  {
   "cell_type": "code",
   "execution_count": 17,
   "id": "ee0f6559",
   "metadata": {},
   "outputs": [
    {
     "name": "stdout",
     "output_type": "stream",
     "text": [
      "2\n"
     ]
    }
   ],
   "source": [
    "print(arr.ndim)"
   ]
  },
  {
   "cell_type": "code",
   "execution_count": 18,
   "id": "000dd5f0",
   "metadata": {},
   "outputs": [
    {
     "data": {
      "text/plain": [
       "2"
      ]
     },
     "execution_count": 18,
     "metadata": {},
     "output_type": "execute_result"
    }
   ],
   "source": [
    "np.ndim(arr)"
   ]
  },
  {
   "cell_type": "markdown",
   "id": "56cca831",
   "metadata": {},
   "source": [
    "# 8. Zeros Function\n",
    "The numpy.zeros() function creates a new array of the given shape with zeros"
   ]
  },
  {
   "cell_type": "code",
   "execution_count": 19,
   "id": "16059791",
   "metadata": {},
   "outputs": [
    {
     "data": {
      "text/plain": [
       "array([[0., 0., 0.],\n",
       "       [0., 0., 0.],\n",
       "       [0., 0., 0.]])"
      ]
     },
     "execution_count": 19,
     "metadata": {},
     "output_type": "execute_result"
    }
   ],
   "source": [
    "np.zeros((3,3))"
   ]
  },
  {
   "cell_type": "code",
   "execution_count": 20,
   "id": "af763756",
   "metadata": {},
   "outputs": [
    {
     "data": {
      "text/plain": [
       "array([[0, 0, 0, 0],\n",
       "       [0, 0, 0, 0],\n",
       "       [0, 0, 0, 0]])"
      ]
     },
     "execution_count": 20,
     "metadata": {},
     "output_type": "execute_result"
    }
   ],
   "source": [
    "np.zeros(shape = (3,4), dtype = 'int')"
   ]
  },
  {
   "cell_type": "markdown",
   "id": "4d89a687",
   "metadata": {},
   "source": [
    "# 9. Ones Function\n",
    "This function numpy.ones() creates a new array of the given shape with ones."
   ]
  },
  {
   "cell_type": "code",
   "execution_count": 21,
   "id": "1598f300",
   "metadata": {},
   "outputs": [
    {
     "data": {
      "text/plain": [
       "array([[1., 1., 1.],\n",
       "       [1., 1., 1.],\n",
       "       [1., 1., 1.]])"
      ]
     },
     "execution_count": 21,
     "metadata": {},
     "output_type": "execute_result"
    }
   ],
   "source": [
    "np.ones((3,3))"
   ]
  },
  {
   "cell_type": "code",
   "execution_count": 22,
   "id": "b9eb2555",
   "metadata": {},
   "outputs": [
    {
     "data": {
      "text/plain": [
       "array([[1, 1, 1],\n",
       "       [1, 1, 1],\n",
       "       [1, 1, 1]])"
      ]
     },
     "execution_count": 22,
     "metadata": {},
     "output_type": "execute_result"
    }
   ],
   "source": [
    "np.ones(shape = (3,3) , dtype = 'int')"
   ]
  },
  {
   "cell_type": "markdown",
   "id": "9e0c145c",
   "metadata": {},
   "source": [
    "# 10. Eye Function\n",
    "This Function create a new array with 1's as the diagonal and zeros as remaining. "
   ]
  },
  {
   "cell_type": "code",
   "execution_count": 23,
   "id": "8927d61d",
   "metadata": {},
   "outputs": [
    {
     "data": {
      "text/plain": [
       "array([[1., 0., 0.],\n",
       "       [0., 1., 0.],\n",
       "       [0., 0., 1.]])"
      ]
     },
     "execution_count": 23,
     "metadata": {},
     "output_type": "execute_result"
    }
   ],
   "source": [
    "np.eye(3)"
   ]
  },
  {
   "cell_type": "markdown",
   "id": "2ef0ca14",
   "metadata": {},
   "source": [
    "np.eye(4, dtype= 'int')"
   ]
  },
  {
   "cell_type": "markdown",
   "id": "d63bdc7b",
   "metadata": {},
   "source": [
    "# 11. Random Function\n",
    "# a) np.random.rand\n",
    "The numpy.random.rand() function creates an array of specified shape and fills it with random values."
   ]
  },
  {
   "cell_type": "code",
   "execution_count": 24,
   "id": "cf9b513a",
   "metadata": {},
   "outputs": [
    {
     "data": {
      "text/plain": [
       "array([[0.13672954, 0.63595448, 0.25387689, 0.91768286],\n",
       "       [0.34592993, 0.91170646, 0.95715134, 0.80590137],\n",
       "       [0.18001787, 0.11307269, 0.61184632, 0.86590558]])"
      ]
     },
     "execution_count": 24,
     "metadata": {},
     "output_type": "execute_result"
    }
   ],
   "source": [
    "np.random.rand(3,4)"
   ]
  },
  {
   "cell_type": "markdown",
   "id": "37a16189",
   "metadata": {},
   "source": [
    "# b) np.random.randint\n",
    "numpy.random.randint() is one of the function for doing random sampling in numpy. It returns an array of specified shape and fills it with random integers from low (inclusive) to high (exclusive), i.e. in the interval [low, high)."
   ]
  },
  {
   "cell_type": "code",
   "execution_count": 25,
   "id": "3902efaa",
   "metadata": {},
   "outputs": [
    {
     "data": {
      "text/plain": [
       "array([ 5, 13,  5,  7, 18,  2,  6,  8, 11])"
      ]
     },
     "execution_count": 25,
     "metadata": {},
     "output_type": "execute_result"
    }
   ],
   "source": [
    "np.random.randint ( low = 1 , high = 20, size = 9)"
   ]
  },
  {
   "cell_type": "code",
   "execution_count": 26,
   "id": "5401d646",
   "metadata": {},
   "outputs": [
    {
     "data": {
      "text/plain": [
       "array([[ 4, 13, 17,  9],\n",
       "       [ 7, 19, 15,  3],\n",
       "       [16,  7,  6,  9]])"
      ]
     },
     "execution_count": 26,
     "metadata": {},
     "output_type": "execute_result"
    }
   ],
   "source": [
    "np.random.randint(1,20,(3,4))"
   ]
  },
  {
   "cell_type": "markdown",
   "id": "44989aa1",
   "metadata": {},
   "source": [
    "# np.random.rand()\n",
    "This uses normal distribution to generate the random numbers"
   ]
  },
  {
   "cell_type": "code",
   "execution_count": 27,
   "id": "2ea89320",
   "metadata": {},
   "outputs": [
    {
     "data": {
      "text/plain": [
       "array([-0.94641845,  1.57247983,  0.30663455,  0.17625988,  0.78168458,\n",
       "       -0.10448128, -0.96038064, -0.58501528,  0.259581  ,  0.9085222 ,\n",
       "       -1.49008921,  0.84708473,  0.43067852,  0.69036618,  0.65410272,\n",
       "        0.39898259, -2.20937202,  1.24834673, -0.34162408,  0.47759782,\n",
       "       -0.48660664,  0.95560163, -0.08120675,  0.01837391,  0.54230824,\n",
       "       -0.29795488, -1.47552735, -0.37477952,  1.24853775,  0.2370156 ,\n",
       "        1.7281438 , -0.44701386,  1.83911157,  1.76647649,  0.5140029 ,\n",
       "        0.50839955,  0.41901451,  1.49677145,  1.28776628,  0.37420138,\n",
       "        0.78499817, -0.01501492, -1.74218841, -0.89321018,  0.09334445,\n",
       "        0.2616245 , -0.91479804,  0.57396451,  1.33091421,  1.12880947,\n",
       "        0.33462516,  0.00807283,  1.82338578,  0.40725514, -0.76654533,\n",
       "       -0.19949251,  0.79652874,  0.44550726,  0.62892243,  0.932339  ,\n",
       "       -0.07998951, -0.06550168,  1.25303088, -0.21411119,  0.1128515 ,\n",
       "       -1.42769146, -1.1471107 ,  1.5158337 , -1.33487443,  1.85889497,\n",
       "        0.59012351, -1.05668464,  1.71732538, -0.38045295, -1.13309231,\n",
       "        1.11773207, -0.62090345, -0.72270282, -1.23361273, -0.72770172,\n",
       "        1.16813567, -0.63476662, -1.17893306, -0.53212474, -0.316729  ,\n",
       "       -1.3095067 ,  0.09385202,  1.08396453, -0.62744602,  1.03839715,\n",
       "        0.7107894 , -0.54443301,  0.81163171,  1.0153186 ,  0.51174931,\n",
       "       -0.12762754, -0.12538603, -1.21702656, -0.64274029,  1.07664974])"
      ]
     },
     "execution_count": 27,
     "metadata": {},
     "output_type": "execute_result"
    }
   ],
   "source": [
    "np.random.randn(100)"
   ]
  },
  {
   "cell_type": "code",
   "execution_count": 28,
   "id": "a7e3d13e",
   "metadata": {},
   "outputs": [],
   "source": [
    "import matplotlib.pyplot as plt"
   ]
  },
  {
   "cell_type": "code",
   "execution_count": 29,
   "id": "55d96632",
   "metadata": {},
   "outputs": [
    {
     "name": "stdout",
     "output_type": "stream",
     "text": [
      "Requirement already satisfied: numpy in c:\\users\\pardh\\anaconda3\\lib\\site-packages (1.24.3)\n"
     ]
    },
    {
     "data": {
      "image/png": "[encoded data removed]",
      "text/plain": [
       "<Figure size 640x480 with 1 Axes>"
      ]
     },
     "metadata": {},
     "output_type": "display_data"
    }
   ],
   "source": [
    "plt.hist(np.random.randn(10000),bins= 500);"
   ]
  },
  {
   "cell_type": "markdown",
   "id": "b81cacdf",
   "metadata": {},
   "source": [
    "# 12. Reshape function - will not alter the original data\n",
    "The numpy.reshape() function shapes an array without changing the data of the array.<br> It should be noted that the product if the rows and columns should be same"
   ]
  },
  {
   "cell_type": "code",
   "execution_count": 30,
   "id": "9473f9b4",
   "metadata": {},
   "outputs": [
    {
     "data": {
      "text/plain": [
       "array([[1, 2, 3, 4, 5, 6, 7, 8, 9]])"
      ]
     },
     "execution_count": 30,
     "metadata": {},
     "output_type": "execute_result"
    }
   ],
   "source": [
    "np.reshape(arr,(1,9))"
   ]
  },
  {
   "cell_type": "code",
   "execution_count": 31,
   "id": "8253636a",
   "metadata": {},
   "outputs": [
    {
     "data": {
      "text/plain": [
       "array([[1],\n",
       "       [2],\n",
       "       [3],\n",
       "       [4],\n",
       "       [5],\n",
       "       [6],\n",
       "       [7],\n",
       "       [8],\n",
       "       [9]])"
      ]
     },
     "execution_count": 31,
     "metadata": {},
     "output_type": "execute_result"
    }
   ],
   "source": [
    "np.reshape(arr, (9,1))"
   ]
  },
  {
   "cell_type": "code",
   "execution_count": 32,
   "id": "8fc228f4",
   "metadata": {},
   "outputs": [
    {
     "data": {
      "text/plain": [
       "array([[ 9, 19,  4,  4, 17,  4,  2, 15],\n",
       "       [ 5,  7,  2, 18,  1, 19, 16, 17]])"
      ]
     },
     "execution_count": 32,
     "metadata": {},
     "output_type": "execute_result"
    }
   ],
   "source": [
    "np.reshape(np.random.randint(1,20,(4,4)), (2, 8))"
   ]
  },
  {
   "cell_type": "markdown",
   "id": "fc76e10d",
   "metadata": {},
   "source": [
    "# 13. Linspace Function\n",
    "The numpy.linspace() function returns number spaces evenly w.r.t interval. Similar to numpy.arange() function but instead of step it uses sample number.\n",
    "\n",
    "Parameters :\n",
    "\n",
    "-> start : [optional] start of interval range. By default start = 0 \n",
    "-> stop : end of interval range\n",
    "-> restep : If True, return (samples, step). By default restep = False\n",
    "-> num : [int, optional] No. of samples to generate\n",
    "-> dtype : type of output array"
   ]
  },
  {
   "cell_type": "code",
   "execution_count": 33,
   "id": "7e866205",
   "metadata": {},
   "outputs": [
    {
     "data": {
      "text/plain": [
       "array([1., 2., 3., 4., 5.])"
      ]
     },
     "execution_count": 33,
     "metadata": {},
     "output_type": "execute_result"
    }
   ],
   "source": [
    "np.linspace(1,5 , 5)"
   ]
  },
  {
   "cell_type": "code",
   "execution_count": 34,
   "id": "e246e6b8",
   "metadata": {},
   "outputs": [
    {
     "data": {
      "text/plain": [
       "array([ 2.,  4.,  6.,  8., 10., 12., 14., 16., 18., 20.])"
      ]
     },
     "execution_count": 34,
     "metadata": {},
     "output_type": "execute_result"
    }
   ],
   "source": [
    "np.linspace(2,20 , 10)"
   ]
  },
  {
   "cell_type": "code",
   "execution_count": 35,
   "id": "86d3d02d",
   "metadata": {},
   "outputs": [
    {
     "data": {
      "text/plain": [
       "array([1.        , 1.44444444, 1.88888889, 2.33333333, 2.77777778,\n",
       "       3.22222222, 3.66666667, 4.11111111, 4.55555556, 5.        ])"
      ]
     },
     "execution_count": 35,
     "metadata": {},
     "output_type": "execute_result"
    }
   ],
   "source": [
    "np.linspace(1,5,10) #equal divisiom from 1 to 5 ,10 portions"
   ]
  },
  {
   "cell_type": "markdown",
   "id": "0b84e939",
   "metadata": {},
   "source": [
    "# 14. Flatten Function\n",
    "ndarray.flatten() function return a copy of the array collapsed into one dimension."
   ]
  },
  {
   "cell_type": "code",
   "execution_count": 36,
   "id": "f58c7fcf",
   "metadata": {},
   "outputs": [
    {
     "data": {
      "text/plain": [
       "array([[1, 2, 3],\n",
       "       [4, 5, 6],\n",
       "       [7, 8, 9]])"
      ]
     },
     "execution_count": 36,
     "metadata": {},
     "output_type": "execute_result"
    }
   ],
   "source": [
    "arr"
   ]
  },
  {
   "cell_type": "code",
   "execution_count": 37,
   "id": "4c7420f4",
   "metadata": {},
   "outputs": [
    {
     "data": {
      "text/plain": [
       "array([1, 2, 3, 4, 5, 6, 7, 8, 9])"
      ]
     },
     "execution_count": 37,
     "metadata": {},
     "output_type": "execute_result"
    }
   ],
   "source": [
    "arr.flatten()"
   ]
  },
  {
   "cell_type": "markdown",
   "id": "9bc7b88e",
   "metadata": {},
   "source": [
    "# 16. Copy function\n",
    "If we normally use the equals sign then the **id** of both the numpy array will be same, so we need to use to copy function"
   ]
  },
  {
   "cell_type": "code",
   "execution_count": 38,
   "id": "0a7656b8",
   "metadata": {},
   "outputs": [
    {
     "name": "stdout",
     "output_type": "stream",
     "text": [
      "IDS\n",
      "Array 1-ID :  1979122525904\n",
      "Array 2-ID :  1979122525904\n",
      "------------------------------------------------------\n",
      "IDS After Copy function\n",
      "Array 1-ID :  1979122525904\n",
      "Array 2-ID :  1979094153616\n"
     ]
    }
   ],
   "source": [
    "arr1 = np.array([23,33,4,2,1])\n",
    "arr2 = arr1\n",
    "print(\"IDS\")\n",
    "print(\"Array 1-ID : \",id(arr1))\n",
    "print(\"Array 2-ID : \",id(arr2))\n",
    "print(\"------------------------------------------------------\")\n",
    "\n",
    "#using copy function. \n",
    "arr2 = np.copy(arr1)\n",
    "\n",
    "print(\"IDS After Copy function\")\n",
    "print(\"Array 1-ID : \",id(arr1))\n",
    "print(\"Array 2-ID : \",id(arr2))"
   ]
  },
  {
   "cell_type": "markdown",
   "id": "29ce67aa",
   "metadata": {},
   "source": [
    "# 17. arr.max() , arr.min() , arr.sum() functions\n",
    "arr.max() will give us the maximum element present in the array\n",
    "arr.min() will give us the minimun element present in the array\n",
    "arr.sum() will give us the sum of all the elements present in the array"
   ]
  },
  {
   "cell_type": "code",
   "execution_count": 39,
   "id": "7a81b0be",
   "metadata": {},
   "outputs": [
    {
     "name": "stdout",
     "output_type": "stream",
     "text": [
      "Maximum element in array: 7\n",
      "Minimum element in array: 3\n",
      "Sum of all the elements in array:  56\n"
     ]
    }
   ],
   "source": [
    "arr = np.random.randint(2,10,10)\n",
    "\n",
    "print(\"Maximum element in array:\",arr.max())\n",
    "print(\"Minimum element in array:\",np.min(arr))\n",
    "print(\"Sum of all the elements in array: \",np.sum(arr))"
   ]
  },
  {
   "cell_type": "code",
   "execution_count": 40,
   "id": "025fcaff",
   "metadata": {},
   "outputs": [],
   "source": [
    "np.random.seed(3)"
   ]
  },
  {
   "cell_type": "markdown",
   "id": "842460aa",
   "metadata": {},
   "source": [
    "# 18. Seed Function\n",
    "random() function is used to generate random numbers in Python. Not actually random, rather this is used to generate pseudo-random numbers. That implies that these randomly generated numbers can be determined. random() function generates numbers for some values. This value is also called seed value.\n",
    "\n",
    "Syntax : random.seed( l, version )<br>\n",
    "It generates same random number on multiple execution.\n",
    "Parameter :\n",
    "\n",
    "l : Any seed value used to produce a random number.<br>\n",
    "version : A integer used to specify how to convert l in a integer."
   ]
  },
  {
   "cell_type": "code",
   "execution_count": 41,
   "id": "cd2fc7b5",
   "metadata": {},
   "outputs": [
    {
     "name": "stdout",
     "output_type": "stream",
     "text": [
      "[[4 7 7]\n",
      " [1 9 5]\n",
      " [8 1 1]]\n"
     ]
    }
   ],
   "source": [
    "np.random.seed(5)\n",
    "\n",
    "arr1 = np.random.randint(1,10,(3,3))\n",
    "print(arr1)"
   ]
  },
  {
   "cell_type": "code",
   "execution_count": 42,
   "id": "b9c6dc7e",
   "metadata": {},
   "outputs": [
    {
     "name": "stdout",
     "output_type": "stream",
     "text": [
      "[[8 2 6]\n",
      " [8 1 2]\n",
      " [5 7 3]]\n"
     ]
    }
   ],
   "source": [
    "arr1 = np.random.randint(1,10,(3,3))\n",
    "print(arr1)"
   ]
  },
  {
   "cell_type": "markdown",
   "id": "c075e8ea",
   "metadata": {},
   "source": [
    "# 19. Sorting Function\n",
    "numpy.sort() : This function returns a sorted copy of an array.\n",
    "\n",
    "Parameters :<br>\n",
    "\n",
    "arr : Array to be sorted.<br>\n",
    "axis : Axis along which we need array to be started.<br>\n",
    "order : This argument specifies which fields to compare first.<br>\n",
    "kind : [‘quicksort’{default}, ‘mergesort’, ‘heapsort’]Sorting algorithm."
   ]
  },
  {
   "cell_type": "code",
   "execution_count": 43,
   "id": "67f1100a",
   "metadata": {},
   "outputs": [
    {
     "name": "stdout",
     "output_type": "stream",
     "text": [
      "[[14 12 13]\n",
      " [ 7 12 12]\n",
      " [ 4  9 17]]\n",
      "\n",
      "\n",
      "Column wise sorting \n",
      "[[ 4  9 12]\n",
      " [ 7 12 13]\n",
      " [14 12 17]]\n",
      "\n",
      "\n",
      "Row Wise Sorting\n",
      "[[12 13 14]\n",
      " [ 7 12 12]\n",
      " [ 4  9 17]]\n"
     ]
    }
   ],
   "source": [
    "np.random.seed(3)\n",
    "arr = np.random.randint(4,20,(3,3))\n",
    "print(arr)\n",
    "print(\"\\n\")\n",
    "print(\"Column wise sorting \")\n",
    "print(np.sort(arr, axis =0, kind = \"mergesort\" ) ) # column wise sorting\n",
    "print(\"\\n\")\n",
    "print(\"Row Wise Sorting\")\n",
    "print(np.sort(arr,axis = 1 , kind = \"quicksort\")) #row wise sorting \n"
   ]
  },
  {
   "cell_type": "markdown",
   "id": "977b9a2e",
   "metadata": {},
   "source": [
    "# 20. Mathematical Operations\n",
    "# a) Addition"
   ]
  },
  {
   "cell_type": "code",
   "execution_count": 44,
   "id": "6b7e7fa3",
   "metadata": {},
   "outputs": [
    {
     "name": "stdout",
     "output_type": "stream",
     "text": [
      "[[28 16 25]\n",
      " [ 7  3 10]\n",
      " [25 10 20]] \n",
      "\n",
      "[[11 28  9]\n",
      " [15 25 25]\n",
      " [27 10  6]]\n",
      " \n",
      "\n",
      "[[11 28  9]\n",
      " [15 25 25]\n",
      " [27 10  6]]\n",
      "\n",
      " Addition of Two Arrays\n",
      "\n",
      "[[39 44 34]\n",
      " [22 28 35]\n",
      " [52 20 26]]\n"
     ]
    }
   ],
   "source": [
    "np.random.seed(4)\n",
    "arr1 = np.random.randint(2,29,(3,3))\n",
    "arr2 = np.random.randint(2,29,(3,3))\n",
    "print(arr1,\"\\n\")\n",
    "print(arr2)\n",
    "print(\" \\n\")\n",
    "print(arr2)\n",
    "\n",
    "print(\"\\n Addition of Two Arrays\\n\")\n",
    "print(arr1+arr2)"
   ]
  },
  {
   "cell_type": "markdown",
   "id": "2e89f18a",
   "metadata": {},
   "source": [
    "# b) Subtraction"
   ]
  },
  {
   "cell_type": "code",
   "execution_count": 45,
   "id": "58b3c5b2",
   "metadata": {},
   "outputs": [
    {
     "name": "stdout",
     "output_type": "stream",
     "text": [
      "[[12 26 27]\n",
      " [ 5 26 10]\n",
      " [ 2 23 21]] \n",
      "\n",
      "[[12 13 27]\n",
      " [11 12 23]\n",
      " [25  8  2]] \n",
      "\n",
      "Subtraction of Two Arrays \n",
      "\n",
      "[[  0  13   0]\n",
      " [ -6  14 -13]\n",
      " [-23  15  19]]\n"
     ]
    }
   ],
   "source": [
    "np.random.seed(3)\n",
    "\n",
    "arr1 = np.random.randint(2,29,(3,3))\n",
    "arr2 = np.random.randint(2,29,(3,3))\n",
    "\n",
    "print(arr1,\"\\n\")\n",
    "print(arr2,\"\\n\")\n",
    "print(\"Subtraction of Two Arrays \\n\")\n",
    "print(arr1-arr2)"
   ]
  },
  {
   "cell_type": "markdown",
   "id": "3797da24",
   "metadata": {},
   "source": [
    "# c) Matrix Multiplication\n",
    "For Matrix Multiplication we either use the <br>\n",
    "\n",
    "dot function or <br>\n",
    "the @ symbol "
   ]
  },
  {
   "cell_type": "code",
   "execution_count": 46,
   "id": "c744f3b5",
   "metadata": {},
   "outputs": [
    {
     "name": "stdout",
     "output_type": "stream",
     "text": [
      "[[12 26 27]\n",
      " [ 5 26 10]\n",
      " [ 2 23 21]] \n",
      "\n",
      "[[12 13 27]\n",
      " [11 12 23]\n",
      " [25  8  2]] \n",
      "\n",
      "Multiplication of Two Arrays \n",
      "\n",
      "[[1105  684  976]\n",
      " [ 596  457  753]\n",
      " [ 802  470  625]] \n",
      "\n",
      "[[1105  684  976]\n",
      " [ 596  457  753]\n",
      " [ 802  470  625]]\n"
     ]
    }
   ],
   "source": [
    "np.random.seed(3)\n",
    "\n",
    "arr1 = np.random.randint(2,29,(3,3))\n",
    "arr2 = np.random.randint(2,29,(3,3))\n",
    "\n",
    "print(arr1,\"\\n\")\n",
    "print(arr2,\"\\n\")\n",
    "print(\"Multiplication of Two Arrays \\n\")\n",
    "print(arr1.dot(arr2),\"\\n\")\n",
    "print(arr1@(arr2))"
   ]
  },
  {
   "cell_type": "markdown",
   "id": "8cd0f95b",
   "metadata": {},
   "source": [
    "# 21. Mean, Variance and Standard deviation\n",
    "In NumPy, we can compute the mean, standard deviation, and variance of a given array along the second axis by two approaches first is by using inbuilt functions and second is by the formulas of the mean, standard deviation, and variance.<br>\n",
    "\n",
    "Using numpy.mean(), numpy.std(), numpy.var()"
   ]
  },
  {
   "cell_type": "code",
   "execution_count": 47,
   "id": "cbf89477",
   "metadata": {},
   "outputs": [
    {
     "name": "stdout",
     "output_type": "stream",
     "text": [
      "[12 26 27  5 26 10  2 23 21 12]\n",
      "\n",
      " Mean of the array : 16.4\n",
      "\n",
      " Variance of the array :  77.84\n",
      "\n",
      " Standard Deviation of the array : 8.822698000045111\n"
     ]
    }
   ],
   "source": [
    "np.random.seed(3)\n",
    "\n",
    "arr = np.random.randint(2,29,10)\n",
    "print(arr)\n",
    "print(\"\\n Mean of the array :\", np.mean(arr))\n",
    "print(\"\\n Variance of the array : \",np.var(arr))\n",
    "print(\"\\n Standard Deviation of the array :\",np.std(arr))"
   ]
  },
  {
   "cell_type": "markdown",
   "id": "b91d870f",
   "metadata": {},
   "source": [
    "# 22. Filtering an numpy array"
   ]
  },
  {
   "cell_type": "code",
   "execution_count": 48,
   "id": "e52fae15",
   "metadata": {},
   "outputs": [
    {
     "name": "stdout",
     "output_type": "stream",
     "text": [
      "[12 26 27  5 26 10  2 23 21 12 13 27] \n",
      "\n",
      "[ True  True  True False  True False False  True  True  True  True  True]\n",
      "[12 26 27 26 23 21 12 13 27]\n",
      "\n",
      " Odd numbers in array.\n",
      "[27  5 23 21 13 27]\n"
     ]
    }
   ],
   "source": [
    "np.random.seed(3)\n",
    "\n",
    "arr = np.random.randint(2,29,12)\n",
    "print(arr,\"\\n\")\n",
    "\n",
    "print(arr>10)\n",
    "print(arr[arr>10])\n",
    "\n",
    "print(\"\\n Odd numbers in array.\")\n",
    "print(arr[arr%2 != 0])"
   ]
  },
  {
   "cell_type": "code",
   "execution_count": 49,
   "id": "8201e47d",
   "metadata": {},
   "outputs": [
    {
     "data": {
      "text/plain": [
       "(3, 3)"
      ]
     },
     "execution_count": 49,
     "metadata": {},
     "output_type": "execute_result"
    }
   ],
   "source": [
    "np.shape(arr1)"
   ]
  },
  {
   "cell_type": "markdown",
   "id": "ee53b371",
   "metadata": {},
   "source": [
    "# 23 Transposing an array\n",
    "With the help of Numpy ndarray.T object, we can make a Transpose of an array having dimension greater than or equal to 2."
   ]
  },
  {
   "cell_type": "code",
   "execution_count": 50,
   "id": "227bb501",
   "metadata": {},
   "outputs": [
    {
     "name": "stdout",
     "output_type": "stream",
     "text": [
      "Original Matrix:\n",
      "\n",
      "[[12 26 27]\n",
      " [ 5 26 10]\n",
      " [ 2 23 21]]\n",
      "Transpose Matrix:\n",
      "\n",
      "[[12  5  2]\n",
      " [26 26 23]\n",
      " [27 10 21]]\n",
      "[[12  5  2]\n",
      " [26 26 23]\n",
      " [27 10 21]]\n"
     ]
    }
   ],
   "source": [
    "np.random.seed(3)\n",
    "\n",
    "arr = np.random.randint(2,29,(3,3))\n",
    "\n",
    "print(\"Original Matrix:\\n\")\n",
    "print(arr)\n",
    "print(\"Transpose Matrix:\\n\")\n",
    "\n",
    "print(arr.T)\n",
    "\n",
    "print(np.transpose(arr))"
   ]
  },
  {
   "cell_type": "markdown",
   "id": "ff92cab3",
   "metadata": {},
   "source": [
    "# 25. Where function\n",
    "The numpy.where() function returns the indices of elements in an input array where the given condition is satisfied.<br>\n",
    "\n",
    "<b>Syntax</b> :numpy.where(condition[, x, y]) Parameters: condition : When True, yield x, otherwise yield y. x, y : Values from which to choose. x, y and condition need to be broadcastable to some shape.<br>\n",
    "\n",
    "Returns: out : [ndarray or tuple of ndarrays] If both x and y are specified, the output array contains elements of x where condition is True, and elements from y elsewhere.<br>\n",
    "\n",
    "If only condition is given, return the tuple condition.nonzero(), the indices where condition is True.<br>"
   ]
  },
  {
   "cell_type": "code",
   "execution_count": 51,
   "id": "df380859",
   "metadata": {},
   "outputs": [
    {
     "name": "stdout",
     "output_type": "stream",
     "text": [
      "[12 26 27  5 26 10  2 23 21 12 13 27] \n",
      "\n",
      "['even' 'even' '27' '5' 'even' 'even' 'even' '23' '21' 'even' '13' '27']\n",
      "['12' '26' 'odd' 'odd' '26' '10' '2' 'odd' 'odd' '12' 'odd' 'odd']\n"
     ]
    }
   ],
   "source": [
    "np.random.seed(3)\n",
    "\n",
    "arr = np.random.randint(2,29,12)\n",
    "print(arr,\"\\n\")\n",
    "\n",
    "print(np.where(arr%2 == 0 , 'even', arr))\n",
    "print(np.where(arr % 2 !=0 , 'odd' , arr))"
   ]
  },
  {
   "cell_type": "markdown",
   "id": "b4027dcc",
   "metadata": {},
   "source": [
    "# 26. Merging Arrays\n",
    "# a)<b> Concatenate</b></br>\n",
    "We can perform the concatenation operation using the concatenate() function. With this function, arrays are concatenated either row-wise or column-wise, given that they have equal rows or columns respectively. Column-wise concatenation can be done by equating axis to 1 as an argument in the function."
   ]
  },
  {
   "cell_type": "code",
   "execution_count": 52,
   "id": "9b96e8bf",
   "metadata": {},
   "outputs": [
    {
     "name": "stdout",
     "output_type": "stream",
     "text": [
      "Original Arrays 1 & 2:\n",
      "\n",
      " [[12 26 27]\n",
      " [ 5 26 10]\n",
      " [ 2 23 21]] \n",
      "\n",
      " [[12 13 27]\n",
      " [11 12 23]\n",
      " [25  8  2]] \n",
      "\n",
      "Row Merging:\n",
      "\n",
      "[[12 26 27 12 13 27]\n",
      " [ 5 26 10 11 12 23]\n",
      " [ 2 23 21 25  8  2]]\n",
      "\n",
      " Column Merging :\n",
      "\n",
      "[[12 26 27]\n",
      " [ 5 26 10]\n",
      " [ 2 23 21]\n",
      " [12 13 27]\n",
      " [11 12 23]\n",
      " [25  8  2]]\n"
     ]
    }
   ],
   "source": [
    "np.random.seed(3)\n",
    "\n",
    "arr1 = np.random.randint(2,29,(3,3))\n",
    "arr2 = np.random.randint(2,29,(3,3))\n",
    "\n",
    "print(\"Original Arrays 1 & 2:\\n\\n\",arr1,\"\\n\\n\",arr2,\"\\n\")\n",
    "\n",
    "print(\"Row Merging:\\n\")\n",
    "print(np.concatenate((arr1,arr2),axis = 1))\n",
    "\n",
    "print(\"\\n Column Merging :\\n\")\n",
    "print(np.concatenate((arr1,arr2),axis = 0))"
   ]
  },
  {
   "cell_type": "markdown",
   "id": "f156069f",
   "metadata": {},
   "source": [
    "# b) Hstack  , Vstack"
   ]
  },
  {
   "cell_type": "code",
   "execution_count": 53,
   "id": "d0f2f3d4",
   "metadata": {},
   "outputs": [
    {
     "name": "stdout",
     "output_type": "stream",
     "text": [
      "Original Arrays 1 & 2:\n",
      "\n",
      " [[12 26 27]\n",
      " [ 5 26 10]\n",
      " [ 2 23 21]] \n",
      "\n",
      " [[12 13 27]\n",
      " [11 12 23]\n",
      " [25  8  2]] \n",
      "\n",
      "Row Merging:\n",
      "\n",
      "[[12 26 27 12 13 27]\n",
      " [ 5 26 10 11 12 23]\n",
      " [ 2 23 21 25  8  2]] \n",
      "\n",
      "\n",
      " Column Merging :\n",
      "\n",
      "[[12 26 27]\n",
      " [ 5 26 10]\n",
      " [ 2 23 21]\n",
      " [12 13 27]\n",
      " [11 12 23]\n",
      " [25  8  2]]\n"
     ]
    }
   ],
   "source": [
    "np.random.seed(3)\n",
    "\n",
    "arr1 = np.random.randint(2,29,(3,3))\n",
    "arr2 = np.random.randint(2,29,(3,3))\n",
    "\n",
    "print(\"Original Arrays 1 & 2:\\n\\n\",arr1,\"\\n\\n\",arr2,\"\\n\")\n",
    "\n",
    "print(\"Row Merging:\\n\")\n",
    "print(np.hstack((arr1,arr2)),\"\\n\")\n",
    "\n",
    "print(\"\\n Column Merging :\\n\")\n",
    "print(np.vstack((arr1,arr2)))"
   ]
  },
  {
   "cell_type": "markdown",
   "id": "0913f168",
   "metadata": {},
   "source": [
    "# 27. Splitting Arrays\n",
    "numpy.vsplit() function split an array into multiple sub-arrays vertically (row-wise). vsplit is equivalent to split with axis=0 (default), the array is always split along the first axis regardless of the array dimension.<br>\n",
    "numpy.hsplit() function split an array into multiple sub-arrays horizontally (column-wise). hsplit is equivalent to split with axis=1, the array is always split along the second axis regardless of the array dimension.\n",
    "\n",
    "\n"
   ]
  },
  {
   "cell_type": "code",
   "execution_count": 58,
   "id": "0b0e2855",
   "metadata": {},
   "outputs": [
    {
     "name": "stdout",
     "output_type": "stream",
     "text": [
      "Original Arrays 1 & 2:\n",
      "\n",
      " [[12 26 27  5]\n",
      " [26 10  2 23]\n",
      " [21 12 13 27]\n",
      " [11 12 23 25]] \n",
      "\n",
      "\n",
      "(4, 4)\n",
      "Column Spliting:\n",
      "\n",
      "[array([[12, 26],\n",
      "       [26, 10],\n",
      "       [21, 12],\n",
      "       [11, 12]]), array([[27,  5],\n",
      "       [ 2, 23],\n",
      "       [13, 27],\n",
      "       [23, 25]])]\n",
      "\n",
      " Row Merging :\n",
      "\n",
      "[array([[12, 26, 27,  5],\n",
      "       [26, 10,  2, 23]]), array([[21, 12, 13, 27],\n",
      "       [11, 12, 23, 25]])]\n"
     ]
    }
   ],
   "source": [
    "np.random.seed(3)\n",
    "\n",
    "arr = np.random.randint(2,29,(4,4))\n",
    "\n",
    "\n",
    "print(\"Original Arrays 1 & 2:\\n\\n\",arr,\"\\n\\n\")\n",
    "print(\"Column Spliting:\\n\")\n",
    "print(np.hsplit(arr,2))\n",
    "\n",
    "print(\"\\n Row Merging :\\n\")\n",
    "print(np.vsplit(arr,2))"
   ]
  },
  {
   "cell_type": "markdown",
   "id": "e0b70d73",
   "metadata": {},
   "source": [
    "# Converting a image into numpy Array\n",
    "This is picture we are having right here<br>\n",
    "\n",
    "Once we can turn this picture into an numpy array we can perform operations on that and pass the array even for some machine learning algorithms which will be benefitial for us<br><br>\n",
    "\n",
    "We will be using <b>imread </b> function here which belongs from the matplotlib class<br>\n",
    "\n",
    "<img src= \"1007550.jpg\">\n"
   ]
  },
  {
   "cell_type": "code",
   "execution_count": 57,
   "id": "294eb309",
   "metadata": {},
   "outputs": [
    {
     "name": "stdout",
     "output_type": "stream",
     "text": [
      "Shape of the matrix:  (1082, 2020, 3) \n",
      "\n",
      "[[[13  1 23]\n",
      "  [13  1 23]\n",
      "  [13  1 23]\n",
      "  ...\n",
      "  [20 12 27]\n",
      "  [20 12 27]\n",
      "  [20 12 27]]\n",
      "\n",
      " [[13  1 23]\n",
      "  [13  1 23]\n",
      "  [13  1 23]\n",
      "  ...\n",
      "  [21 13 28]\n",
      "  [21 13 28]\n",
      "  [21 13 28]]\n",
      "\n",
      " [[13  1 23]\n",
      "  [13  1 23]\n",
      "  [13  1 23]\n",
      "  ...\n",
      "  [22 13 30]\n",
      "  [22 14 29]\n",
      "  [22 14 29]]\n",
      "\n",
      " ...\n",
      "\n",
      " [[ 0  0  0]\n",
      "  [ 0  0  0]\n",
      "  [ 0  0  0]\n",
      "  ...\n",
      "  [33 19 44]\n",
      "  [33 19 44]\n",
      "  [33 19 44]]\n",
      "\n",
      " [[ 0  0  0]\n",
      "  [ 0  0  0]\n",
      "  [ 0  0  0]\n",
      "  ...\n",
      "  [33 19 44]\n",
      "  [34 20 45]\n",
      "  [34 20 45]]\n",
      "\n",
      " [[ 0  0  0]\n",
      "  [ 0  0  0]\n",
      "  [ 0  0  0]\n",
      "  ...\n",
      "  [33 19 44]\n",
      "  [34 20 45]\n",
      "  [34 20 45]]]\n"
     ]
    }
   ],
   "source": [
    "from matplotlib.image import imread\n",
    "\n",
    "img = imread('1007550.jpg')\n",
    "print(\"Shape of the matrix: \",np.shape(img),\"\\n\")\n",
    "\n",
    "print(img)\n"
   ]
  },
  {
   "cell_type": "code",
   "execution_count": null,
   "id": "6509d407",
   "metadata": {},
   "outputs": [],
   "source": []
  }
 ],
 "metadata": {
  "kernelspec": {
   "display_name": "Python 3 (ipykernel)",
   "language": "python",
   "name": "python3"
  },
  "language_info": {
   "codemirror_mode": {
    "name": "ipython",
    "version": 3
   },
   "file_extension": ".py",
   "mimetype": "text/x-python",
   "name": "python",
   "nbconvert_exporter": "python",
   "pygments_lexer": "ipython3",
   "version": "3.11.3"
  }
 },
 "nbformat": 4,
 "nbformat_minor": 5
}
